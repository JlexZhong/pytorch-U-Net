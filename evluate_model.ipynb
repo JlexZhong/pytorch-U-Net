{
 "cells": [
  {
   "cell_type": "code",
   "execution_count": 19,
   "source": [
    "import time\r\n",
    "import cv2\r\n",
    "import numpy as np\r\n",
    "from PIL import Image\r\n",
    "from unet import Unet\r\n",
    "import matplotlib\r\n",
    "import matplotlib.pyplot as plt\r\n",
    "from torchsummary import summary\r\n",
    "from tqdm import tqdm\r\n",
    "%matplotlib inline"
   ],
   "outputs": [],
   "metadata": {}
  },
  {
   "cell_type": "markdown",
   "source": [
    "创建模型，模式为预测"
   ],
   "metadata": {}
  },
  {
   "cell_type": "code",
   "execution_count": 3,
   "source": [
    "#-------------------------------------------------------------------------#\r\n",
    "#   如果想要修改对应种类的颜色，到generate函数里修改self.colors即可\r\n",
    "#-------------------------------------------------------------------------#\r\n",
    "unet = Unet()\r\n",
    "#-------------------------------------------------------------------------#\r\n",
    "#   mode用于指定测试的模式：\r\n",
    "#   'predict'表示单张图片预测\r\n",
    "#   'video'表示视频检测\r\n",
    "#   'fps'表示测试fps\r\n",
    "#-------------------------------------------------------------------------#\r\n",
    "mode = \"predict\"\r\n",
    "summary(unet.net,(3,512,512))\r\n"
   ],
   "outputs": [
    {
     "output_type": "stream",
     "name": "stdout",
     "text": [
      "logs/Epoch44-Total_Loss0.0483-Val_Loss0.0874.pth model loaded.\n",
      "----------------------------------------------------------------\n",
      "        Layer (type)               Output Shape         Param #\n",
      "================================================================\n",
      "            Conv2d-1         [-1, 64, 512, 512]           1,792\n",
      "              ReLU-2         [-1, 64, 512, 512]               0\n",
      "            Conv2d-3         [-1, 64, 512, 512]          36,928\n",
      "              ReLU-4         [-1, 64, 512, 512]               0\n",
      "         MaxPool2d-5         [-1, 64, 256, 256]               0\n",
      "            Conv2d-6        [-1, 128, 256, 256]          73,856\n",
      "              ReLU-7        [-1, 128, 256, 256]               0\n",
      "            Conv2d-8        [-1, 128, 256, 256]         147,584\n",
      "              ReLU-9        [-1, 128, 256, 256]               0\n",
      "        MaxPool2d-10        [-1, 128, 128, 128]               0\n",
      "           Conv2d-11        [-1, 256, 128, 128]         295,168\n",
      "             ReLU-12        [-1, 256, 128, 128]               0\n",
      "           Conv2d-13        [-1, 256, 128, 128]         590,080\n",
      "             ReLU-14        [-1, 256, 128, 128]               0\n",
      "           Conv2d-15        [-1, 256, 128, 128]         590,080\n",
      "             ReLU-16        [-1, 256, 128, 128]               0\n",
      "        MaxPool2d-17          [-1, 256, 64, 64]               0\n",
      "           Conv2d-18          [-1, 512, 64, 64]       1,180,160\n",
      "             ReLU-19          [-1, 512, 64, 64]               0\n",
      "           Conv2d-20          [-1, 512, 64, 64]       2,359,808\n",
      "             ReLU-21          [-1, 512, 64, 64]               0\n",
      "           Conv2d-22          [-1, 512, 64, 64]       2,359,808\n",
      "             ReLU-23          [-1, 512, 64, 64]               0\n",
      "        MaxPool2d-24          [-1, 512, 32, 32]               0\n",
      "           Conv2d-25          [-1, 512, 32, 32]       2,359,808\n",
      "             ReLU-26          [-1, 512, 32, 32]               0\n",
      "           Conv2d-27          [-1, 512, 32, 32]       2,359,808\n",
      "             ReLU-28          [-1, 512, 32, 32]               0\n",
      "           Conv2d-29          [-1, 512, 32, 32]       2,359,808\n",
      "             ReLU-30          [-1, 512, 32, 32]               0\n",
      "UpsamplingBilinear2d-31          [-1, 512, 64, 64]               0\n",
      "           Conv2d-32          [-1, 512, 64, 64]       4,719,104\n",
      "             ReLU-33          [-1, 512, 64, 64]               0\n",
      "           Conv2d-34          [-1, 512, 64, 64]       2,359,808\n",
      "             ReLU-35          [-1, 512, 64, 64]               0\n",
      "           unetUp-36          [-1, 512, 64, 64]               0\n",
      "UpsamplingBilinear2d-37        [-1, 512, 128, 128]               0\n",
      "           Conv2d-38        [-1, 256, 128, 128]       1,769,728\n",
      "             ReLU-39        [-1, 256, 128, 128]               0\n",
      "           Conv2d-40        [-1, 256, 128, 128]         590,080\n",
      "             ReLU-41        [-1, 256, 128, 128]               0\n",
      "           unetUp-42        [-1, 256, 128, 128]               0\n",
      "UpsamplingBilinear2d-43        [-1, 256, 256, 256]               0\n",
      "           Conv2d-44        [-1, 128, 256, 256]         442,496\n",
      "             ReLU-45        [-1, 128, 256, 256]               0\n",
      "           Conv2d-46        [-1, 128, 256, 256]         147,584\n",
      "             ReLU-47        [-1, 128, 256, 256]               0\n",
      "           unetUp-48        [-1, 128, 256, 256]               0\n",
      "UpsamplingBilinear2d-49        [-1, 128, 512, 512]               0\n",
      "           Conv2d-50         [-1, 64, 512, 512]         110,656\n",
      "             ReLU-51         [-1, 64, 512, 512]               0\n",
      "           Conv2d-52         [-1, 64, 512, 512]          36,928\n",
      "             ReLU-53         [-1, 64, 512, 512]               0\n",
      "           unetUp-54         [-1, 64, 512, 512]               0\n",
      "           Conv2d-55          [-1, 2, 512, 512]             130\n",
      "================================================================\n",
      "Total params: 24,891,202\n",
      "Trainable params: 24,891,202\n",
      "Non-trainable params: 0\n",
      "----------------------------------------------------------------\n",
      "Input size (MB): 3.00\n",
      "Forward/backward pass size (MB): 2808.00\n",
      "Params size (MB): 94.95\n",
      "Estimated Total Size (MB): 2905.95\n",
      "----------------------------------------------------------------\n"
     ]
    }
   ],
   "metadata": {}
  },
  {
   "cell_type": "markdown",
   "source": [
    "展示训练保存的acc-loss图"
   ],
   "metadata": {}
  },
  {
   "cell_type": "code",
   "execution_count": 38,
   "source": [
    "log_dir = \"./logs\"\r\n",
    "loss_dir_list = []\r\n",
    "\r\n",
    "loss_list = []\r\n",
    "val_loss_list = []\r\n",
    "\r\n",
    "for loss_dir in os.listdir(log_dir):\r\n",
    "    if os.path.isdir(loss_dir):\r\n",
    "        for loss_file in os.listdir(loss_dir):\r\n",
    "            if \"epoch_loss\" in os.path.split(loss_file)[1]: #检验文件名里是否包含某字符串\r\n",
    "                loss_list.append(open(loss_file,'r').read().splitlines())\r\n",
    "            if \"epoch_val_loss\" in os.path.split(loss_file)[1]:\r\n",
    "                loss_list.append(open(loss_file,'r').read().splitlines())\r\n",
    "                \r\n",
    "print(loss_list)\r\n",
    "print(val_loss_list)"
   ],
   "outputs": [
    {
     "output_type": "stream",
     "name": "stdout",
     "text": [
      "[]\n",
      "[]\n"
     ]
    }
   ],
   "metadata": {}
  },
  {
   "cell_type": "code",
   "execution_count": 36,
   "source": [
    "acc_loss_img_path = './logs/loss_2021_09_17_11_22_21/epoch_loss_2021_09_17_11_22_21.png'\r\n",
    "acc_loss_img = cv2.imread(acc_loss_img_path)\r\n",
    "plt.imshow(acc_loss_img)\r\n",
    "plt.title(\"acc-loss\")\r\n"
   ],
   "outputs": [
    {
     "output_type": "execute_result",
     "data": {
      "text/plain": [
       "Text(0.5, 1.0, 'acc-loss')"
      ]
     },
     "metadata": {},
     "execution_count": 36
    },
    {
     "output_type": "display_data",
     "data": {
      "image/png": "[encoded data removed]",
      "text/plain": [
       "<Figure size 432x288 with 1 Axes>"
      ]
     },
     "metadata": {
      "needs_background": "light"
     }
    }
   ],
   "metadata": {}
  },
  {
   "cell_type": "markdown",
   "source": [
    "预测单张图像"
   ],
   "metadata": {}
  },
  {
   "cell_type": "code",
   "execution_count": 7,
   "source": [
    "img_path = 'VOCdevkit/VOC2007/JPEGImages/77.jpg'\r\n",
    "img = Image.open(img_path)\r\n",
    "\r\n",
    "r_img,gray_img,seg_img = unet.detect_image(img)\r\n",
    "r_img = np.array(r_img)\r\n"
   ],
   "outputs": [],
   "metadata": {}
  },
  {
   "cell_type": "code",
   "execution_count": 8,
   "source": [
    "\r\n",
    "plt.subplot(1,2,1)\r\n",
    "plt.imshow(img)\r\n",
    "plt.title(\"original image\")\r\n",
    "plt.axis(\"off\")\r\n",
    "\r\n",
    "plt.subplot(1,2,2)\r\n",
    "plt.imshow(seg_img)\r\n",
    "plt.title(\"detected image\")\r\n",
    "plt.axis(\"off\")"
   ],
   "outputs": [
    {
     "output_type": "stream",
     "name": "stderr",
     "text": [
      "Clipping input data to the valid range for imshow with RGB data ([0..1] for floats or [0..255] for integers).\n"
     ]
    },
    {
     "output_type": "execute_result",
     "data": {
      "text/plain": [
       "(-0.5, 511.5, 498.5, -0.5)"
      ]
     },
     "metadata": {},
     "execution_count": 8
    },
    {
     "output_type": "display_data",
     "data": {
      "image/png": "[encoded data removed]",
      "text/plain": [
       "<Figure size 432x288 with 2 Axes>"
      ]
     },
     "metadata": {
      "needs_background": "light"
     }
    }
   ],
   "metadata": {}
  },
  {
   "cell_type": "markdown",
   "source": [
    "## miou评估"
   ],
   "metadata": {}
  },
  {
   "cell_type": "code",
   "execution_count": 32,
   "source": [
    "from get_miou_prediction import miou_Unet\r\n",
    "\r\n",
    "miou_unet = miou_Unet()"
   ],
   "outputs": [
    {
     "output_type": "stream",
     "name": "stdout",
     "text": [
      "logs/Epoch44-Total_Loss0.0483-Val_Loss0.0874.pth model loaded.\n"
     ]
    }
   ],
   "metadata": {}
  },
  {
   "cell_type": "code",
   "execution_count": 26,
   "source": [
    "image_ids = open(\"VOCdevkit/VOC2007/ImageSets/Segmentation/val.txt\",'r').read().splitlines()\r\n",
    "print(\"validation images ======>\\n\",images_ids)"
   ],
   "outputs": [
    {
     "output_type": "stream",
     "name": "stdout",
     "text": [
      "validation images ======>\n",
      " ['144', '71', '111', '2', '125', '13', '110', '66', '21', '75', '145', '39', '15', '112', '141']\n"
     ]
    }
   ],
   "metadata": {}
  },
  {
   "cell_type": "markdown",
   "source": [
    "### 依次得到val的miou_Unet预测结果"
   ],
   "metadata": {}
  },
  {
   "cell_type": "code",
   "execution_count": 33,
   "source": [
    "if not os.path.exists(\"./miou_pr_dir\"):\r\n",
    "    os.makedirs(\"./miou_pr_dir\")\r\n",
    "    \r\n",
    "for image_id in tqdm(image_ids):\r\n",
    "    image_path = \"VOCdevkit/VOC2007/JPEGImages/\"+image_id+\".jpg\"\r\n",
    "    image = Image.open(image_path)\r\n",
    "    image = miou_unet.detect_image(image)\r\n",
    "    image.save(\"miou_pr_dir/\" + image_id + \".png\")"
   ],
   "outputs": [
    {
     "output_type": "stream",
     "name": "stderr",
     "text": [
      "100%|██████████| 15/15 [01:30<00:00,  6.03s/it]\n"
     ]
    }
   ],
   "metadata": {}
  },
  {
   "cell_type": "code",
   "execution_count": 34,
   "source": [
    "from miou import compute_mIoU\r\n",
    "gt_dir = \"VOCdevkit/VOC2007/SegmentationClass\"\r\n",
    "pred_dir = \"miou_pr_dir\"\r\n",
    "png_name_list = open(\"VOCdevkit/VOC2007/ImageSets/Segmentation/val.txt\",'r').read().splitlines() \r\n",
    "#------------------------------#\r\n",
    "#   分类个数+1\r\n",
    "#   2+1\r\n",
    "#------------------------------#\r\n",
    "num_classes = 2\r\n",
    "#--------------------------------------------#\r\n",
    "#   区分的种类，和json_to_dataset里面的一样\r\n",
    "#--------------------------------------------#\r\n",
    "name_classes = [\"background\", \"rock\"]"
   ],
   "outputs": [],
   "metadata": {}
  },
  {
   "cell_type": "code",
   "execution_count": 35,
   "source": [
    "compute_mIoU(gt_dir, pred_dir, png_name_list, num_classes, name_classes)  # 执行计算mIoU的函数"
   ],
   "outputs": [
    {
     "output_type": "stream",
     "name": "stdout",
     "text": [
      "Num classes 2\n",
      "10 / 15: mIou-92.14; mPA-95.85\n",
      "===>background:\tmIou-98.59; mPA-99.28\n",
      "===>rock:\tmIou-85.42; mPA-92.21\n",
      "===> mIoU: 92.01; mPA: 95.75\n"
     ]
    },
    {
     "output_type": "execute_result",
     "data": {
      "text/plain": [
       "array([0.98591996, 0.85419063])"
      ]
     },
     "metadata": {},
     "execution_count": 35
    }
   ],
   "metadata": {}
  }
 ],
 "metadata": {
  "orig_nbformat": 4,
  "language_info": {
   "name": "python",
   "version": "3.6.13",
   "mimetype": "text/x-python",
   "codemirror_mode": {
    "name": "ipython",
    "version": 3
   },
   "pygments_lexer": "ipython3",
   "nbconvert_exporter": "python",
   "file_extension": ".py"
  },
  "kernelspec": {
   "name": "python3",
   "display_name": "Python 3.6.13 64-bit ('torch': conda)"
  },
  "interpreter": {
   "hash": "f9719a25c65eac2f80fd272a8fefc475a57736c3f377a18a2c15c9b142141fa2"
  }
 },
 "nbformat": 4,
 "nbformat_minor": 2
}