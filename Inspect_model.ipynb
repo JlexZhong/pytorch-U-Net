{
 "cells": [
  {
   "cell_type": "markdown",
   "source": [
    "# 预测"
   ],
   "metadata": {}
  },
  {
   "cell_type": "code",
   "execution_count": 85,
   "source": [
    "%cd E:\\My Projects\\unet-pytorch-Buliiiing"
   ],
   "outputs": [
    {
     "output_type": "stream",
     "name": "stdout",
     "text": [
      "e:\\My Projects\\unet-pytorch-Buliiiing\n"
     ]
    }
   ],
   "metadata": {
    "ExecuteTime": {
     "end_time": "2021-09-17T06:25:19.677698Z",
     "start_time": "2021-09-17T06:25:19.668698Z"
    }
   }
  },
  {
   "cell_type": "markdown",
   "source": [
    "## 导入包"
   ],
   "metadata": {
    "ExecuteTime": {
     "end_time": "2021-09-17T06:26:14.354707Z",
     "start_time": "2021-09-17T06:26:14.348122Z"
    }
   }
  },
  {
   "cell_type": "code",
   "execution_count": 2,
   "source": [
    "import time\r\n",
    "import cv2\r\n",
    "import numpy as np\r\n",
    "from PIL import Image\r\n",
    "from unet import Unet\r\n",
    "import matplotlib\r\n",
    "import matplotlib.pyplot as plt\r\n",
    "%matplotlib inline"
   ],
   "outputs": [],
   "metadata": {
    "ExecuteTime": {
     "end_time": "2021-09-17T06:25:22.200942Z",
     "start_time": "2021-09-17T06:25:21.550884Z"
    }
   }
  },
  {
   "cell_type": "code",
   "execution_count": 3,
   "source": [
    "#-------------------------------------------------------------------------#\r\n",
    "#   如果想要修改对应种类的颜色，到generate函数里修改self.colors即可\r\n",
    "#-------------------------------------------------------------------------#\r\n",
    "unet = Unet()\r\n",
    "#-------------------------------------------------------------------------#\r\n",
    "#   mode用于指定测试的模式：\r\n",
    "#   'predict'表示单张图片预测\r\n",
    "#   'video'表示视频检测\r\n",
    "#   'fps'表示测试fps\r\n",
    "#-------------------------------------------------------------------------#\r\n",
    "mode = \"predict\""
   ],
   "outputs": [
    {
     "output_type": "stream",
     "name": "stdout",
     "text": [
      "logs/Epoch44-Total_Loss0.0483-Val_Loss0.0874.pth model loaded.\n"
     ]
    }
   ],
   "metadata": {
    "ExecuteTime": {
     "end_time": "2021-09-17T06:25:26.812137Z",
     "start_time": "2021-09-17T06:25:24.774946Z"
    }
   }
  },
  {
   "cell_type": "code",
   "execution_count": 4,
   "source": [
    "img_path = 'VOCdevkit/VOC2007/JPEGImages/38.jpg'\r\n",
    "img = Image.open(img_path)\r\n",
    "\r\n",
    "r_img,gray_img,seg_img = unet.detect_image(img)\r\n",
    "r_img = np.array(r_img)"
   ],
   "outputs": [],
   "metadata": {}
  },
  {
   "cell_type": "code",
   "execution_count": 6,
   "source": [
    "\r\n",
    "print(\"=================预测结果=======================\")\r\n",
    "\r\n",
    "plt.figure(figsize=(10,4))\r\n",
    "\r\n",
    "plt.subplot(1,3,1)\r\n",
    "plt.imshow(r_img)\r\n",
    "plt.axis('off')\r\n",
    "plt.title('Image result_img')\r\n",
    "\r\n",
    "plt.subplot(1,3,2)\r\n",
    "plt.imshow(gray_img,cmap=\"gray\")\r\n",
    "plt.axis('off')\r\n",
    "plt.title('Image pr')\r\n",
    "\r\n",
    "plt.subplot(1,3,3)\r\n",
    "plt.imshow(seg_img)\r\n",
    "plt.axis('off')\r\n",
    "plt.title('Image seg_img')"
   ],
   "outputs": [
    {
     "output_type": "stream",
     "name": "stderr",
     "text": [
      "Clipping input data to the valid range for imshow with RGB data ([0..1] for floats or [0..255] for integers).\n"
     ]
    },
    {
     "output_type": "stream",
     "name": "stdout",
     "text": [
      "=================预测结果=======================\n"
     ]
    },
    {
     "output_type": "execute_result",
     "data": {
      "text/plain": [
       "Text(0.5, 1.0, 'Image seg_img')"
      ]
     },
     "metadata": {},
     "execution_count": 6
    },
    {
     "output_type": "display_data",
     "data": {
      "image/png": "[encoded data removed]",
      "text/plain": [
       "<Figure size 720x288 with 3 Axes>"
      ]
     },
     "metadata": {
      "needs_background": "light"
     }
    }
   ],
   "metadata": {}
  },
  {
   "cell_type": "markdown",
   "source": [
    "gray_img : shape=(512,512) min=0  max=1  灰度图\r\n",
    "\r\n",
    "seg_img : shape=(512,512,3) min=0 max=255  seg_img为每个种类的掩码给了颜色，这里类别为2，"
   ],
   "metadata": {}
  },
  {
   "cell_type": "code",
   "execution_count": 7,
   "source": [
    "from scipy.ndimage.measurements import label,find_objects\r\n",
    "\r\n",
    "mask_lesion, num_predicted = label(gray_img)\r\n",
    "print(mask_lesion)\r\n",
    "locations = find_objects(mask_lesion)\r\n",
    "print(locations)"
   ],
   "outputs": [
    {
     "output_type": "stream",
     "name": "stdout",
     "text": [
      "[[0 0 0 ... 0 0 0]\n",
      " [0 0 0 ... 0 0 0]\n",
      " [0 0 0 ... 0 0 0]\n",
      " ...\n",
      " [0 0 0 ... 0 0 0]\n",
      " [0 0 0 ... 0 0 0]\n",
      " [0 0 0 ... 0 0 0]]\n",
      "[(slice(61, 86, None), slice(349, 376, None)), (slice(79, 128, None), slice(38, 87, None)), (slice(140, 177, None), slice(258, 279, None)), (slice(157, 211, None), slice(10, 122, None)), (slice(231, 360, None), slice(127, 204, None)), (slice(248, 341, None), slice(189, 287, None)), (slice(276, 376, None), slice(352, 444, None)), (slice(308, 334, None), slice(65, 101, None)), (slice(331, 352, None), slice(268, 294, None)), (slice(405, 445, None), slice(103, 146, None)), (slice(427, 473, None), slice(271, 328, None))]\n"
     ]
    }
   ],
   "metadata": {}
  },
  {
   "cell_type": "code",
   "execution_count": 8,
   "source": [
    "label_arrays = []\r\n",
    "for label_num in range(1, num_predicted+1):\r\n",
    "    label_mask = np.where(mask_lesion == label_num, 1, 0)\r\n",
    "    label_arrays.append(label_mask)\r\n",
    "\r\n",
    "print('There are {} separate components / objects detected.'.format(num_predicted))"
   ],
   "outputs": [
    {
     "output_type": "stream",
     "name": "stdout",
     "text": [
      "There are 11 separate components / objects detected.\n"
     ]
    }
   ],
   "metadata": {}
  },
  {
   "cell_type": "code",
   "execution_count": 15,
   "source": [
    "# Create a random colormap\r\n",
    "from matplotlib.colors import ListedColormap\r\n",
    "rand_cmap = ListedColormap(np.random.rand(256,3))\r\n",
    "\r\n",
    "labels_for_display = np.where(mask_lesion > 0, mask_lesion, np.nan)\r\n",
    "plt.imshow(gray_img, cmap='gray')\r\n",
    "plt.imshow(labels_for_display, cmap=rand_cmap)\r\n",
    "plt.axis('off')\r\n",
    "plt.title('Labeled Cells ({} Nuclei)'.format(num_predicted))\r\n",
    "plt.show()\r\n",
    "plt.savefig('instance_seg.png')"
   ],
   "outputs": [
    {
     "output_type": "display_data",
     "data": {
      "image/png": "[encoded data removed]",
      "text/plain": [
       "<Figure size 432x288 with 1 Axes>"
      ]
     },
     "metadata": {
      "needs_background": "light"
     }
    },
    {
     "output_type": "display_data",
     "data": {
      "text/plain": [
       "<Figure size 432x288 with 0 Axes>"
      ]
     },
     "metadata": {}
    }
   ],
   "metadata": {}
  },
  {
   "cell_type": "code",
   "execution_count": 20,
   "source": [
    "obj_num = len(locations)\r\n",
    "\r\n",
    "fig, axes = plt.subplots(1,obj_num, figsize=(10,6))\r\n",
    "\r\n",
    "for ii, obj_indices in enumerate(locations):\r\n",
    "    cell = gray_img[obj_indices]\r\n",
    "    axes[ii].imshow(cell, cmap='gray')\r\n",
    "    axes[ii].axis('off')\r\n",
    "    axes[ii].set_title('Label #{}\\nSize: {}'.format(ii+1, cell.shape))\r\n",
    "\r\n",
    "plt.tight_layout()"
   ],
   "outputs": [
    {
     "output_type": "display_data",
     "data": {
      "image/png": "[encoded data removed]",
      "text/plain": [
       "<Figure size 720x432 with 5 Axes>"
      ]
     },
     "metadata": {
      "needs_background": "light"
     }
    }
   ],
   "metadata": {}
  },
  {
   "cell_type": "code",
   "execution_count": null,
   "source": [
    "fig, axes = plt.subplots(1,5, figsize=(12,4))\r\n",
    "\r\n",
    "for ax in axes:\r\n",
    "    ax.axis('off')\r\n",
    "plt.tight_layout()\r\n",
    "\r\n",
    "axes[0].imshow(seg_img[two_cell_indices], cmap='gray')\r\n",
    "axes[0].set_title('Original object')\r\n",
    "axes[1].imshow(gray_img[two_cell_indices], cmap='gray')\r\n",
    "axes[1].set_title('Original mask')\r\n",
    "axes[2].imshow(cell_mask_opened, cmap='gray')\r\n",
    "axes[2].set_title('Opened mask')\r\n",
    "\r\n",
    "axes[3].imshow(gray_img[two_cell_indices]*cell_mask_opened, cmap='gray')\r\n",
    "axes[3].set_title('Opened object')\r\n"
   ],
   "outputs": [],
   "metadata": {}
  },
  {
   "cell_type": "code",
   "execution_count": null,
   "source": [
    "from scipy import ndimage\r\n",
    "# Get the object indices, and perform a binary opening procedure\r\n",
    "two_cell_indices = find_objects(mask_lesion)[3]\r\n",
    "cell_mask = gray_img[two_cell_indices]\r\n",
    "cell_mask_opened = ndimage.binary_opening(cell_mask, iterations=8)"
   ],
   "outputs": [],
   "metadata": {}
  },
  {
   "cell_type": "code",
   "execution_count": null,
   "source": [
    "fig, axes = plt.subplots(1,4, figsize=(12,4))\r\n",
    "\r\n",
    "for ax in axes:\r\n",
    "    ax.axis('off')\r\n",
    "plt.tight_layout()\r\n",
    "\r\n",
    "\r\n",
    "axes[0].imshow(seg_img[two_cell_indices], cmap='gray')\r\n",
    "axes[0].set_title('Original object')\r\n",
    "axes[1].imshow(gray_img[two_cell_indices], cmap='gray')\r\n",
    "axes[1].set_title('Original mask')\r\n",
    "axes[2].imshow(cell_mask_opened, cmap='gray')\r\n",
    "axes[2].set_title('Opened mask')\r\n",
    "\r\n",
    "axes[3].imshow(gray_img[two_cell_indices]*cell_mask_opened, cmap='gray')\r\n",
    "axes[3].set_title('Opened object')\r\n"
   ],
   "outputs": [
    {
     "output_type": "stream",
     "name": "stderr",
     "text": [
      "Clipping input data to the valid range for imshow with RGB data ([0..1] for floats or [0..255] for integers).\n"
     ]
    },
    {
     "output_type": "execute_result",
     "data": {
      "text/plain": [
       "Text(0.5, 1, 'Opened object')"
      ]
     },
     "metadata": {},
     "execution_count": 105
    },
    {
     "output_type": "display_data",
     "data": {
      "image/png": "[encoded data removed]",
      "text/plain": [
       "<Figure size 864x288 with 4 Axes>"
      ]
     },
     "metadata": {
      "needs_background": "light"
     }
    }
   ],
   "metadata": {}
  }
 ],
 "metadata": {
  "kernelspec": {
   "name": "python3",
   "display_name": "Python 3.6.13 64-bit ('torch': conda)"
  },
  "language_info": {
   "codemirror_mode": {
    "name": "ipython",
    "version": 3
   },
   "file_extension": ".py",
   "mimetype": "text/x-python",
   "name": "python",
   "nbconvert_exporter": "python",
   "pygments_lexer": "ipython3",
   "version": "3.6.13"
  },
  "toc": {
   "base_numbering": 1,
   "nav_menu": {},
   "number_sections": true,
   "sideBar": true,
   "skip_h1_title": false,
   "title_cell": "Table of Contents",
   "title_sidebar": "Contents",
   "toc_cell": false,
   "toc_position": {},
   "toc_section_display": true,
   "toc_window_display": true
  },
  "varInspector": {
   "cols": {
    "lenName": 16,
    "lenType": 16,
    "lenVar": 40
   },
   "kernels_config": {
    "python": {
     "delete_cmd_postfix": "",
     "delete_cmd_prefix": "del ",
     "library": "var_list.py",
     "varRefreshCmd": "print(var_dic_list())"
    },
    "r": {
     "delete_cmd_postfix": ") ",
     "delete_cmd_prefix": "rm(",
     "library": "var_list.r",
     "varRefreshCmd": "cat(var_dic_list()) "
    }
   },
   "oldHeight": 122.677092,
   "position": {
    "height": "522.655px",
    "left": "1368.52px",
    "right": "20px",
    "top": "120px",
    "width": "288px"
   },
   "types_to_exclude": [
    "module",
    "function",
    "builtin_function_or_method",
    "instance",
    "_Feature"
   ],
   "varInspector_section_display": "block",
   "window_display": true
  },
  "interpreter": {
   "hash": "f9719a25c65eac2f80fd272a8fefc475a57736c3f377a18a2c15c9b142141fa2"
  }
 },
 "nbformat": 4,
 "nbformat_minor": 5
}